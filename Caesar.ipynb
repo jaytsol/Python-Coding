{
 "cells": [
  {
   "cell_type": "markdown",
   "id": "4866fe30-62d8-4874-81ad-ebf63ea1bbbe",
   "metadata": {},
   "source": [
    "- 문제 설명<br><br>\n",
    "어떤 문장의 각 알파벳을 일정한 거리만큼 밀어서 다른 알파벳으로 바꾸는 암호화 방식을 시저 암호라고 합니다. 예를 들어 \"AB\"는 1만큼 밀면 \"BC\"가 되고, 3만큼 밀면 \"DE\"가 됩니다. \"z\"는 1만큼 밀면 \"a\"가 됩니다. 문자열 s와 거리 n을 입력받아 s를 n만큼 민 암호문을 만드는 함수, solution을 완성해 보세요.<br><br>\n",
    "\n",
    "- 제한 조건<br>\n",
    "공백은 아무리 밀어도 공백입니다.\n",
    "s는 알파벳 소문자, 대문자, 공백으로만 이루어져 있습니다.\n",
    "s의 길이는 8000이하입니다.\n",
    "n은 1 이상, 25이하인 자연수입니다.<br><br>\n",
    "입출력 예\n",
    "|s\t|n\t|result|\n",
    "|:---:|:---:|:---:|\n",
    "|\"AB\"\t|1\t|\"BC\"|\n",
    "|\"z\"\t|1\t|\"a\"|\n",
    "|\"a B z\"\t|4\t|\"e F d\"|"
   ]
  },
  {
   "cell_type": "markdown",
   "id": "4a0b4809-7d7f-4a68-bd9b-23b414430332",
   "metadata": {},
   "source": [
    "## 초기값 정의\n",
    "#### 문자열 s, 미는 거리 n 이동된 인덱스 m"
   ]
  },
  {
   "cell_type": "code",
   "execution_count": 68,
   "id": "27ae47c7-4d77-4305-8619-e3afe8dd98ff",
   "metadata": {},
   "outputs": [],
   "source": [
    "s = 'a Z B'\n",
    "n = 2"
   ]
  },
  {
   "cell_type": "markdown",
   "id": "30b2630f-8812-4ba3-9bf2-c72aa5beb066",
   "metadata": {},
   "source": [
    "## 제출용 시저 암호 함수"
   ]
  },
  {
   "cell_type": "code",
   "execution_count": 71,
   "id": "0c686589-11b0-4f12-82da-9fdac0509c17",
   "metadata": {},
   "outputs": [],
   "source": [
    "def solution(s, n):\n",
    "    answer = []\n",
    "    for i in range(len(s)):\n",
    "        s_asc = ord(s[i])\n",
    "        s_n = s_asc + n\n",
    "        if s_asc == 32:\n",
    "            answer += chr(32)\n",
    "        elif s_asc >= 65 and s_asc < 91:\n",
    "            while s_n >= 91:\n",
    "                s_n -= 26\n",
    "            answer += chr(s_n)\n",
    "        elif s_asc >= 97 and s_asc < 123:\n",
    "            while s_n >= 123:\n",
    "                s_n -= 26\n",
    "            answer += chr(s_n)\n",
    "        else:\n",
    "            pass\n",
    "    \n",
    "    answer = \"\".join(answer)\n",
    "    \n",
    "    return answer"
   ]
  },
  {
   "cell_type": "code",
   "execution_count": 72,
   "id": "1e8ec5b4-4f28-4ccf-8c33-595776f7f18f",
   "metadata": {},
   "outputs": [
    {
     "name": "stdout",
     "output_type": "stream",
     "text": [
      "c B D\n"
     ]
    }
   ],
   "source": [
    "print(solution(s, n))"
   ]
  }
 ],
 "metadata": {
  "kernelspec": {
   "display_name": "Python 3",
   "language": "python",
   "name": "python3"
  },
  "language_info": {
   "codemirror_mode": {
    "name": "ipython",
    "version": 3
   },
   "file_extension": ".py",
   "mimetype": "text/x-python",
   "name": "python",
   "nbconvert_exporter": "python",
   "pygments_lexer": "ipython3",
   "version": "3.8.8"
  }
 },
 "nbformat": 4,
 "nbformat_minor": 5
}
