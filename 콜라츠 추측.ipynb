{
 "cells": [
  {
   "cell_type": "markdown",
   "id": "9e5d3569-0f40-47bb-872d-944baa95f343",
   "metadata": {},
   "source": [
    "# 콜라츠 추측"
   ]
  },
  {
   "cell_type": "markdown",
   "id": "71b7fb82-6e87-423f-8759-ffe587b571de",
   "metadata": {},
   "source": [
    " "
   ]
  },
  {
   "cell_type": "markdown",
   "id": "87ee748d-4c67-40d9-8224-0494341d3c81",
   "metadata": {},
   "source": [
    "링크 : https://programmers.co.kr/learn/courses/30/lessons/12943"
   ]
  },
  {
   "cell_type": "markdown",
   "id": "b0fc2162-cb52-4388-8aec-614f64564c73",
   "metadata": {},
   "source": [
    " "
   ]
  },
  {
   "cell_type": "markdown",
   "id": "87bf931d-045f-43a1-bed1-3dce41aa53db",
   "metadata": {},
   "source": [
    "- 문제 설명\n",
    "\n",
    "1937년 Collatz란 사람에 의해 제기된 이 추측은, 주어진 수가 1이 될때까지 다음 작업을 반복하면, 모든 수를 1로 만들 수 있다는 추측입니다. 작업은 다음과 같습니다.\n",
    "\n",
    "    1-1. 입력된 수가 짝수라면 2로 나눕니다. \n",
    "    1-2. 입력된 수가 홀수라면 3을 곱하고 1을 더합니다.\n",
    "    2. 결과로 나온 수에 같은 작업을 1이 될 때까지 반복합니다.\n",
    "\n",
    "예를 들어, 입력된 수가 6이라면 6→3→10→5→16→8→4→2→1 이 되어 총 8번 만에 1이 됩니다. 위 작업을 몇 번이나 반복해야하는지 반환하는 함수, solution을 완성해 주세요. 단, 작업을 500번을 반복해도 1이 되지 않는다면 –1을 반환해 주세요.\n",
    "\n",
    "- 제한 사항\n",
    "\n",
    "    - 입력된 수, num은 1 이상 8000000 미만인 정수입니다.\n",
    "\n",
    "\n",
    "- 입출력 예\n",
    "\n",
    "    - n\tresult\n",
    "    - 6 \t8\n",
    "    - 16\t4\n",
    "    - 626331\t-1\n",
    "\n",
    "\n",
    "\n",
    "- 입출력 예 설명\n",
    "\n",
    "- 입출력 예 #1\n",
    "\n",
    "    문제의 설명과 같습니다.\n",
    "\n",
    "- 입출력 예 #2\n",
    "\n",
    "    16 -> 8 -> 4 -> 2 -> 1 이되어 총 4번만에 1이 됩니다.\n",
    "\n",
    "- 입출력 예 #3\n",
    "\n",
    "    626331은 500번을 시도해도 1이 되지 못하므로 -1을 리턴해야합니다."
   ]
  },
  {
   "cell_type": "markdown",
   "id": "3648a317-5025-4a49-b4c7-18c08a984d40",
   "metadata": {},
   "source": [
    "\n",
    "\n"
   ]
  },
  {
   "cell_type": "markdown",
   "id": "9de84325-295d-42d6-b4cf-91192c30aed3",
   "metadata": {},
   "source": [
    "#### 첫 수열 정의부"
   ]
  },
  {
   "cell_type": "code",
   "execution_count": 139,
   "id": "b3699cec-9a53-4785-83b7-b9d3558810e9",
   "metadata": {},
   "outputs": [],
   "source": [
    "START_NUM = 16"
   ]
  },
  {
   "cell_type": "markdown",
   "id": "6fa46ff1-b946-4e7b-8cc8-11daf654f35b",
   "metadata": {},
   "source": [
    " "
   ]
  },
  {
   "cell_type": "markdown",
   "id": "fe713bc7-067f-42a1-a8a2-996d0c3641a8",
   "metadata": {},
   "source": [
    "## 콜라츠 함수 정의부"
   ]
  },
  {
   "cell_type": "code",
   "execution_count": 140,
   "id": "9e73d8e2-f25a-4641-b9bc-a85fb7e18189",
   "metadata": {},
   "outputs": [],
   "source": [
    "class Colaz:\n",
    "    def calc(self):\n",
    "        rp = 0\n",
    "        self = []\n",
    "        self.append(START_NUM)\n",
    "        for i in range(0,501):\n",
    "            if self[i] == 1:\n",
    "                break        \n",
    "            elif i >= 500:\n",
    "                return -1\n",
    "            elif self[i] % 2 == 0:\n",
    "                self.append(self[i] / 2)\n",
    "            elif self[i] % 2 == 1:\n",
    "                self.append(3 * self[i] + 1)\n",
    "            else:\n",
    "                pass\n",
    "            \n",
    "            rp += 1\n",
    "        \n",
    "        print(self, \"\\n\")\n",
    "        print(\"iteration : \", rp, \"\\n\")\n",
    "\n",
    "        return rp"
   ]
  },
  {
   "cell_type": "code",
   "execution_count": 141,
   "id": "024f4b54-d39f-4c4f-8f12-ad9706538ab9",
   "metadata": {},
   "outputs": [],
   "source": [
    "a = Colaz()"
   ]
  },
  {
   "cell_type": "code",
   "execution_count": 142,
   "id": "422ea49c-7960-4d04-887a-1c2e45841c3e",
   "metadata": {},
   "outputs": [
    {
     "name": "stdout",
     "output_type": "stream",
     "text": [
      "[16, 8.0, 4.0, 2.0, 1.0] \n",
      "\n",
      "iteration :  4 \n",
      "\n"
     ]
    },
    {
     "data": {
      "text/plain": [
       "4"
      ]
     },
     "execution_count": 142,
     "metadata": {},
     "output_type": "execute_result"
    }
   ],
   "source": [
    "a.calc()"
   ]
  }
 ],
 "metadata": {
  "kernelspec": {
   "display_name": "Python 3",
   "language": "python",
   "name": "python3"
  },
  "language_info": {
   "codemirror_mode": {
    "name": "ipython",
    "version": 3
   },
   "file_extension": ".py",
   "mimetype": "text/x-python",
   "name": "python",
   "nbconvert_exporter": "python",
   "pygments_lexer": "ipython3",
   "version": "3.8.8"
  }
 },
 "nbformat": 4,
 "nbformat_minor": 5
}
