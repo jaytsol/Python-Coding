{
 "cells": [
  {
   "cell_type": "markdown",
   "id": "433b6fbe-0c1c-4593-9b48-55c3de0f5095",
   "metadata": {},
   "source": [
    "# 하샤드 수 검사"
   ]
  },
  {
   "cell_type": "markdown",
   "id": "17a2480b-6b4d-4a23-9e31-dbb667d20d22",
   "metadata": {},
   "source": [
    "- ### 문제 설명\n",
    "\n",
    "양의 정수 x가 하샤드 수이려면 x의 자릿수의 합으로 x가 나누어져야 합니다. 예를 들어 18의 자릿수 합은 1+8=9이고, 18은 9로 나누어 떨어지므로 18은 하샤드 수입니다. 자연수 x를 입력받아 x가 하샤드 수인지 아닌지 검사하는 함수, solution을 완성해주세요.<br><br>\n",
    "  \n",
    "- ### 제한 조건\n",
    "\n",
    "x는 1 이상, 10000 이하인 정수입니다.<br><br>\n",
    "\n",
    "- ### 입출력 예\n",
    "|arr|return|\n",
    "|:---:|:---:|\n",
    "|10\t|true|\n",
    "|12\t|true|\n",
    "|11\t|false|\n",
    "|13\t|false|  \n",
    "<br>\n",
    "- ### 입출력 예 설명<br>\n",
    "    #### 입출력 예 #1\n",
    "10의 모든 자릿수의 합은 1입니다. 10은 1로 나누어 떨어지므로 10은 하샤드 수입니다.<br><br>\n",
    "\n",
    "    #### 입출력 예 #2\n",
    "12의 모든 자릿수의 합은 3입니다. 12는 3으로 나누어 떨어지므로 12는 하샤드 수입니다.<br><br>\n",
    "\n",
    "    #### 입출력 예 #3\n",
    "11의 모든 자릿수의 합은 2입니다. 11은 2로 나누어 떨어지지 않으므로 11는 하샤드 수가 아닙니다.<br><br>\n",
    "\n",
    "    #### 입출력 예 #4\n",
    "13의 모든 자릿수의 합은 4입니다. 13은 4로 나누어 떨어지지 않으므로 13은 하샤드 수가 아닙니다.<br><br>"
   ]
  },
  {
   "cell_type": "markdown",
   "id": "220d6381-405b-478f-957e-ec9fce3ce9c8",
   "metadata": {},
   "source": [
    "### 생각"
   ]
  },
  {
   "cell_type": "markdown",
   "id": "409bae04-f557-474b-a55f-51045d201d3b",
   "metadata": {},
   "source": [
    "초기값 받고, 이를 문자열로 바꾸고 길이 출력. 4면 1000의 자리라는것.\n",
    "초기값을 이 값으로 나누어 떨어지면 True, 아니면 False 출력."
   ]
  },
  {
   "cell_type": "markdown",
   "id": "0cb86f03-ae7b-4f6f-a392-ad3e35aeeb1f",
   "metadata": {},
   "source": [
    "#### 초기값 받기"
   ]
  },
  {
   "cell_type": "code",
   "execution_count": 17,
   "id": "ee3adcf3-4229-488c-9a30-31e99e9d40c5",
   "metadata": {},
   "outputs": [],
   "source": [
    "x = 9999"
   ]
  },
  {
   "cell_type": "markdown",
   "id": "45bdecf9-e8af-45a6-91d2-2468cf86c4e3",
   "metadata": {},
   "source": [
    "## (제출부분) 하샤드 함수"
   ]
  },
  {
   "cell_type": "code",
   "execution_count": 18,
   "id": "f6880256-5634-4450-8939-d07b88188f43",
   "metadata": {},
   "outputs": [],
   "source": [
    "def solution(x):\n",
    "    x_str = str(x)\n",
    "    temp = 0\n",
    "    \n",
    "    for i in range(len(x_str)):\n",
    "        temp += int(x_str[i])\n",
    "\n",
    "    if x % temp == 0:\n",
    "        answer = True\n",
    "    else:\n",
    "        answer = False\n",
    "\n",
    "    return answer"
   ]
  },
  {
   "cell_type": "code",
   "execution_count": 19,
   "id": "7113b52e-682e-41dd-87a8-9b78e2f3d4fa",
   "metadata": {},
   "outputs": [
    {
     "data": {
      "text/plain": [
       "False"
      ]
     },
     "execution_count": 19,
     "metadata": {},
     "output_type": "execute_result"
    }
   ],
   "source": [
    "solution(x)"
   ]
  },
  {
   "cell_type": "code",
   "execution_count": null,
   "id": "0be2c26d-ff4b-4cb8-a71e-0d9a04fdb8fd",
   "metadata": {},
   "outputs": [],
   "source": []
  }
 ],
 "metadata": {
  "kernelspec": {
   "display_name": "Python 3",
   "language": "python",
   "name": "python3"
  },
  "language_info": {
   "codemirror_mode": {
    "name": "ipython",
    "version": 3
   },
   "file_extension": ".py",
   "mimetype": "text/x-python",
   "name": "python",
   "nbconvert_exporter": "python",
   "pygments_lexer": "ipython3",
   "version": "3.8.8"
  }
 },
 "nbformat": 4,
 "nbformat_minor": 5
}
