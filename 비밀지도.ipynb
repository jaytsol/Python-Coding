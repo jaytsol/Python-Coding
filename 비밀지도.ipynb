{
 "cells": [
  {
   "cell_type": "markdown",
   "id": "507a3817-9009-420c-917d-a99e9e1681d3",
   "metadata": {},
   "source": [
    "# 비밀지도"
   ]
  },
  {
   "cell_type": "markdown",
   "id": "b47d7c5b-cd53-4558-84e5-922d9af25a1d",
   "metadata": {},
   "source": [
    "https://programmers.co.kr/learn/courses/30/lessons/17681<br><br>"
   ]
  },
  {
   "cell_type": "markdown",
   "id": "6e3a46ac-a025-4ec9-94b3-62220a8f5aee",
   "metadata": {},
   "source": [
    "## 생각"
   ]
  },
  {
   "cell_type": "markdown",
   "id": "b281ffdc-484c-42e0-9f7a-66964055b6d1",
   "metadata": {},
   "source": [
    "#### 변수\n",
    "n : 지도 크기<br>\n",
    "arr1, arr2 : 정수 배열 (지도의 값)<br>\n",
    "x : 정수 배열을 십진수로 나타낸 값.<br>\n",
    "$(0 <= x <= 2^n - 1)$<br><br>"
   ]
  },
  {
   "cell_type": "markdown",
   "id": "034350d4-c642-4630-9acb-fc94f51af0b9",
   "metadata": {},
   "source": [
    "#### 방법\n",
    "1. 각 입력값을 검사하여 $(0 <= x <= 2^n - 1)$ 의 조건에 부합하는지 확인한다.\n",
    "1. 입력의 각 배열별로 값을 받아온다. (x)\n",
    "1. 첫 값이 2^(n-1)값보다 크면 arr_bi[?]의 n번째 배열부터 계산. 아니면 2^(n-2)로 비교기준 넘어감\n",
    "1. x를 2로 나눠서 1이 남으면 1을 반환, 0이 남으면 0을 반환한다.\n",
    "1. 각 배열을 이진수로 변환한다 (arr1_bi, arr2_bi)\n",
    "1. arr1_bi 와 arr2_bi 를 비교하여 둘 중 하나라도 1을 가지면 arr에 1을 반환한다.\n",
    "1. '#'와 공백으로 구성된 비밀지도를 작성한다.\n",
    "<br><br>"
   ]
  },
  {
   "cell_type": "markdown",
   "id": "9e46ba0b-b101-4ce9-8a99-190c62be25ba",
   "metadata": {},
   "source": [
    "## 라이브러리"
   ]
  },
  {
   "cell_type": "code",
   "execution_count": 1,
   "id": "fde6f2f8-c570-44ca-b381-02620e11001f",
   "metadata": {},
   "outputs": [],
   "source": [
    "import numpy as np"
   ]
  },
  {
   "cell_type": "markdown",
   "id": "5a38a678-5ab9-42f0-b4f1-e7bcdceda44c",
   "metadata": {},
   "source": [
    "## 입력"
   ]
  },
  {
   "cell_type": "code",
   "execution_count": 2,
   "id": "5a74e0f5-3d57-497f-a94a-292de95a9d85",
   "metadata": {},
   "outputs": [],
   "source": [
    "n = 5\n",
    "arr1 = np.array([9, 20, 28, 18, 11])\n",
    "arr2 = np.array([30, 1, 21, 17, 28])"
   ]
  },
  {
   "cell_type": "markdown",
   "id": "ee4ed1a0-d2f8-4b51-8383-94ab99324a9b",
   "metadata": {},
   "source": [
    "## 입력값 조건검사"
   ]
  },
  {
   "cell_type": "code",
   "execution_count": 3,
   "id": "76bc4788-b6e6-4f1d-a107-76bcc347dbf0",
   "metadata": {},
   "outputs": [
    {
     "name": "stdout",
     "output_type": "stream",
     "text": [
      "모든 입력값이 조건에 부합합니다.\n",
      "\n"
     ]
    }
   ],
   "source": [
    "error = 0\n",
    "for i in range(n):\n",
    "    if (arr1[i] <= (2 ** n - 1)) and (arr1[i] >= 0):\n",
    "        pass\n",
    "    else:\n",
    "        print(\"arr1의\", i + 1, \"번째 값인\", arr1[i], \"이 조건에 부합하지 않습니다.\\n\", end = '')\n",
    "        error += 1\n",
    "\n",
    "for i in range(n):\n",
    "    if (arr2[i] <= (2 ** n - 1)) and (arr2[i] >= 0):\n",
    "        pass\n",
    "    else:\n",
    "        print(\"arr2의\", i + 1, \"번째 값인\", arr2[i], \"이 조건에 부합하지 않습니다.\\n\", end = '')\n",
    "        error += 1\n",
    "\n",
    "if error > 0:\n",
    "    print(\"입력값이 조건에 부합하지 않습니다.\\n\")\n",
    "elif error == 0:\n",
    "    print(\"모든 입력값이 조건에 부합합니다.\\n\")\n",
    "else:\n",
    "    print(\"에러값은 0 혹은 1 이상이어야 합니다.\\n\")"
   ]
  },
  {
   "cell_type": "markdown",
   "id": "6f5cacc6-6e41-4e03-a0b4-d4ba52d175fa",
   "metadata": {},
   "source": [
    "## 함수"
   ]
  },
  {
   "cell_type": "code",
   "execution_count": 4,
   "id": "c242e0d3-6da8-470c-a6c9-6916bb6fddf6",
   "metadata": {},
   "outputs": [],
   "source": [
    "# import numpy as np                             # 제출용일때는 포함시켜줘야함\n",
    "\n",
    "def solution(n, arr1, arr2):\n",
    "    arr1_bi = np.zeros((n, n))                   # 힌트지도 두 개와 정답 지도 하나 생성\n",
    "    arr2_bi = np.zeros((n, n))\n",
    "    arr3_bi = np.zeros((n, n))\n",
    "    arr3_ans = []\n",
    "    arr3_real = []\n",
    "    p = n\n",
    "\n",
    "    def to_binary(n, input):                     # 십진수를 이진수로 바꾸는 함수\n",
    "        output = np.array([])\n",
    "        for i in range(n):\n",
    "            if input % 2 == 1:                   # 입력된 십진수를 2로 나눈 결과가 1이면\n",
    "                output = np.append(output, 1)    # 이진수에 1을 삽입\n",
    "            else:                                # 입력된 십진수를 2로 나눈 결과가 0이면\n",
    "                output = np.append(output, 0)    # 이진수에 0을 삽입\n",
    "            input //= 2                          # 한 자릿수가 계산될때마다 2로 나눈 몫을 반환\n",
    "        output = np.flip(output)                 # 뒤집어 출력해야함\n",
    "        return output\n",
    "\n",
    "    for i in range(n):                           # 힌트지도 1 생성\n",
    "        arr1_bi[i] = to_binary(n, arr1[i])\n",
    "\n",
    "    for i in range(n):                           # 힌트지도 2 생성\n",
    "        arr2_bi[i] = to_binary(n, arr2[i])\n",
    "\n",
    "    for i in range(n):                           # 정답지도 생성\n",
    "        for j in range(n):\n",
    "            arr3_bi[i][j] = int(arr1_bi[i][j]) | int(arr2_bi[i][j])\n",
    "\n",
    "    sharp = ['#']                                # 문자열로 변환할 준비\n",
    "    space = [' ']\n",
    "    for i in range(n):\n",
    "        for j in range(n):\n",
    "            if int(arr3_bi[i][j]) == 1:          # 정답지도를 문자열로 변환\n",
    "                arr3_ans += sharp[0]\n",
    "            else:\n",
    "                arr3_ans += space[0]\n",
    "        arr3_ans = ''.join(arr3_ans)             # 연속된 문자열로 변환\n",
    "\n",
    "    for i in range(n):\n",
    "        arr3_real.append(arr3_ans[n*i:n*i+n])    # 원하는 출력형태에 맞게 가공\n",
    "        p += n\n",
    "        \n",
    "    return arr3_real"
   ]
  },
  {
   "cell_type": "code",
   "execution_count": 5,
   "id": "d256e7ca-cfff-4086-97a5-a3ae77dc3024",
   "metadata": {},
   "outputs": [
    {
     "name": "stdout",
     "output_type": "stream",
     "text": [
      "['#####', '# # #', '### #', '#  ##', '#####']\n"
     ]
    }
   ],
   "source": [
    "print(solution(n, arr1, arr2))"
   ]
  }
 ],
 "metadata": {
  "kernelspec": {
   "display_name": "Python 3",
   "language": "python",
   "name": "python3"
  },
  "language_info": {
   "codemirror_mode": {
    "name": "ipython",
    "version": 3
   },
   "file_extension": ".py",
   "mimetype": "text/x-python",
   "name": "python",
   "nbconvert_exporter": "python",
   "pygments_lexer": "ipython3",
   "version": "3.8.8"
  }
 },
 "nbformat": 4,
 "nbformat_minor": 5
}
