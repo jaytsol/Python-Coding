{
 "cells": [
  {
   "cell_type": "markdown",
   "id": "ce0efaad-6411-4059-af02-8871a05f809c",
   "metadata": {},
   "source": [
    "# 크레인 인형뽑기 게임\n",
    "#### https://programmers.co.kr/learn/courses/30/lessons/64061<br><br>"
   ]
  },
  {
   "cell_type": "markdown",
   "id": "e1beac9e-8854-42e5-837f-4eadcb07d4af",
   "metadata": {},
   "source": [
    "## 생각<br>\n",
    "-  필요한 변수 :\n",
    "   - board<br>\n",
    "   - moves<br>\n",
    "   - N<br>\n",
    "   - basket<br>\n",
    "   - answer<br><br><br>\n",
    "\n",
    "- 제한사항 :\n",
    "    - N (정사각형 board의 크기)은 5 이상 30 이하.<br>\n",
    "    - 인형 종류는 0 이상 100 이하 (0은 빈 칸을 나타냄).<br>\n",
    "    - moves 배열의 크기는 1 이상 1000 이하 (1000번 이하로 크레인을 움직일 수 있음)<br>\n",
    "    - moves 배열의 크기는 N 이하여야함.<br><br><br>\n",
    "\n",
    "-  문제풀이 :\n",
    "    1. moves의 첫 번째 인덱스의 값부터 받음 (루프문).\n",
    "\n",
    "    1. 해당되는 board의 열 중 처음으로 0이 아닌 수를 가져와서 basket에 append함.\n",
    "    1. basket에 담긴 수 중 양 옆으로 중복되는 숫자가 있다면 두 값을 basket으로부터 delete하고 answer에 2 (사라진 인형 수)를 더함.\n",
    "    1. 모든 moves 배열이 반복되면 함수를 종료하고 answer를 리턴함.<br><br>\n"
   ]
  },
  {
   "cell_type": "markdown",
   "id": "9f20be6e-33be-45c9-b478-5a4427a70629",
   "metadata": {},
   "source": [
    "## 입력"
   ]
  },
  {
   "cell_type": "code",
   "execution_count": 63,
   "id": "fe6f4456-46b6-4dd4-8626-4e3e24c1f345",
   "metadata": {},
   "outputs": [],
   "source": [
    "board = [[0,0,0,0,0],[0,0,1,0,3],[0,2,5,0,1],[4,2,4,4,2],[3,5,1,3,1]]\n",
    "moves = [1,5,3,5,1,2,1,4]"
   ]
  },
  {
   "cell_type": "markdown",
   "id": "9fbf3523-635c-40dc-9c5b-907ed72aeff7",
   "metadata": {},
   "source": [
    "<br>메인"
   ]
  },
  {
   "cell_type": "code",
   "execution_count": 64,
   "id": "64753529-c8ef-4f1e-9723-623774690791",
   "metadata": {},
   "outputs": [],
   "source": [
    "def solution(board, moves):\n",
    "    N_1 = len(board)            # 보드 세로 크기\n",
    "    N_2 = len(board[0])         # 보드 가로 크기\n",
    "    if N_1 == N_2:              # 보드 세로, 가로 길이가 같아 정사각형이면\n",
    "        N = N_1                 # N에 보드 크기 저장    \n",
    "    \n",
    "    basket = [0]\n",
    "    answer = 0\n",
    "    for i in range(len(moves)):\n",
    "        position = moves[i] - 1             # moves[i]를 받아 크레인 위치 전달\n",
    "        for j in range(N):\n",
    "            if board[j][position] == 0:      # 열 순서대로 확인해서 0이면 넘어가고\n",
    "                continue\n",
    "            else:\n",
    "                basket.append(board[j][position])    # 0이 아니면 바구니로 옮기기\n",
    "                board[j][position] = 0\n",
    "\n",
    "                if basket[-1] == basket[-2]:    # 바구니에 중복되는 인형이 2개 연속 담기면\n",
    "                    basket.pop(-1)\n",
    "                    basket.pop(-1)\n",
    "                    answer += 2                       # # 인형 둘 다 사라지고 answer에 2를 더함.\n",
    "\n",
    "                else:\n",
    "                    pass\n",
    "            break\n",
    "            \n",
    "    return answer"
   ]
  },
  {
   "cell_type": "code",
   "execution_count": 65,
   "id": "b9ca18fd-7494-41fe-830b-69cb5e2cf4a0",
   "metadata": {},
   "outputs": [
    {
     "name": "stdout",
     "output_type": "stream",
     "text": [
      "[[0, 0, 0, 0, 0], [0, 0, 1, 0, 3], [0, 2, 5, 0, 1], [4, 2, 4, 4, 2], [3, 5, 1, 3, 1]]\n",
      "[0, 4, 2, 4]\n",
      "4\n"
     ]
    }
   ],
   "source": [
    "print(board)\n",
    "print(basket)\n",
    "print(solution(board,moves))"
   ]
  },
  {
   "cell_type": "code",
   "execution_count": null,
   "id": "5ce4eaa5-ddab-4889-85c4-17c61b445a8b",
   "metadata": {},
   "outputs": [],
   "source": []
  }
 ],
 "metadata": {
  "kernelspec": {
   "display_name": "Python 3",
   "language": "python",
   "name": "python3"
  },
  "language_info": {
   "codemirror_mode": {
    "name": "ipython",
    "version": 3
   },
   "file_extension": ".py",
   "mimetype": "text/x-python",
   "name": "python",
   "nbconvert_exporter": "python",
   "pygments_lexer": "ipython3",
   "version": "3.8.8"
  }
 },
 "nbformat": 4,
 "nbformat_minor": 5
}
